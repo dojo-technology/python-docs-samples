{
  "nbformat": 4,
  "nbformat_minor": 0,
  "metadata": {
    "colab": {
      "name": "DOJO NOTEBOOK TEMPLATE.ipynb",
      "provenance": [],
      "authorship_tag": "ABX9TyOSX9EI+b87G/4CMJ8VAy3x",
      "include_colab_link": true
    },
    "kernelspec": {
      "name": "python3",
      "display_name": "Python 3"
    }
  },
  "cells": [
    {
      "cell_type": "markdown",
      "metadata": {
        "id": "view-in-github",
        "colab_type": "text"
      },
      "source": [
        "<a href=\"https://colab.research.google.com/github/dojo-technology/python-docs-samples/blob/master/DOJO_NOTEBOOK_TEMPLATE.ipynb\" target=\"_parent\"><img src=\"https://colab.research.google.com/assets/colab-badge.svg\" alt=\"Open In Colab\"/></a>"
      ]
    },
    {
      "cell_type": "markdown",
      "metadata": {
        "id": "V5KDPTvP5bCo"
      },
      "source": [
        "# **Objetivo: criar uma cultura padronizada e com a identidade DOJO para desenvolvimento das soluções de forma mais eficiente e eficaz, evitando retrabalhos e ganhando escala para deployment de múltiplas soluções.**"
      ]
    },
    {
      "cell_type": "markdown",
      "metadata": {
        "id": "q1TV81_B5uHF"
      },
      "source": [
        "## 1. INÍCIO - IMPORTAÇÕES E VARIÁVEIS QUE SERÃO INPUTS (FORMUÁRIOS, ETC) - importante validar e garantir as variáveis se for None, se vier somente '' ou se o usuário não preencher o input, deixar claro o comportamento esperado.\n",
        "\n",
        ". IDENTAÇÃO 4 - IMPORTANTE!\n",
        "\n",
        ". TENTAR TREINAR E USAR TODAS VARIÁVEIS EM INGLÊS\n",
        "\n",
        "\n",
        "\n",
        "\n",
        "\n"
      ]
    },
    {
      "cell_type": "code",
      "metadata": {
        "id": "XEMs-DaN5rDe"
      },
      "source": [
        "import os\n",
        "from datetime import datetime, timedelta\n",
        "import pandas as pd\n",
        "from pandas.io import gbq\n",
        "import plotly\n",
        "import plotly.express as px\n",
        "import plotly.graph_objects as go\n",
        "from plotly.subplots import make_subplots\n",
        "from google.colab import auth\n",
        "import numpy as np\n",
        "\n",
        "auth.authenticate_user()\n",
        "\n",
        "input x = \"999\"\n",
        "input y = \"Hello World\""
      ],
      "execution_count": null,
      "outputs": []
    },
    {
      "cell_type": "markdown",
      "metadata": {
        "id": "rTpnPhiB58__"
      },
      "source": [
        "## 2. SELECTS, QUERIES E PREPARAÇÃO DE DADOS NECESSÁRIOS (quando houver)\n",
        "Exemplo: conecte no BigQuery, baixe a tabela desejada, ou conecte no Storage e leia o arquivo necessário do Storage. Faça algum ajuste de tratamento aqui também caso não tenha sido feito via Dataprep.\n",
        "\n",
        "\n",
        "\n",
        "> **Cuidado com SELECT no BigQuery que vá retornar um Dataframe maior que 200K registros, algo pode estar errado, não faz sentido trazer algo tão grande para tempo de processamento da aplicação / solução.**\n",
        "\n"
      ]
    },
    {
      "cell_type": "code",
      "metadata": {
        "id": "_981tnHs6TcI"
      },
      "source": [
        "# COLOQUE O CÓDIGO AQUI DA SEÇÃO 2"
      ],
      "execution_count": null,
      "outputs": []
    },
    {
      "cell_type": "markdown",
      "metadata": {
        "id": "GabuGyjJ6cRg"
      },
      "source": [
        "## 3. APLICAÇÃO DA LÓGICA DO ALGORITMO, CÁLCULOS, OPERAÇÕES - AQUI É O CORE DA INTELIGÊNCIA\n",
        "\n",
        "\n",
        "> Para cara bloco de cálculo imagine se isso poderia ser uma função e crie dentro de uma função, assim isso pode ser chamado por partes ou sequencial, facilitando e melhorando a performance do seu algoritmo.\n"
      ]
    },
    {
      "cell_type": "code",
      "metadata": {
        "id": "G5U8gkBj66j4"
      },
      "source": [
        "#EXEMPLO - COLOQUE O CÓDIGO AQUI DA SEÇÃO 3\n",
        "\n",
        "def calcularRoi(a, b, c):\n",
        "    soma = a + b + c\n",
        "    #TAMBÉM CHAME OUTRAS FUNÇÕES AQUI DE DENTRO CASO SEJA NECESSÁRIO\n",
        "    resultado = multiplicaPorDois(soma)\n",
        "    return soma\n",
        "\n",
        "def multiplicaPorDois(x):\n",
        "    resultado = x * 2\n",
        "    return resultado"
      ],
      "execution_count": null,
      "outputs": []
    },
    {
      "cell_type": "markdown",
      "metadata": {
        "id": "mOD7tB8o7fr4"
      },
      "source": [
        "## 4. FORMAÇÃO DOS DASHBOARDS - crie cada dashboards dentro de uma função, com os dataframes sendo argumento da função.\n"
      ]
    },
    {
      "cell_type": "code",
      "metadata": {
        "id": "XYp2Ohk17pq3"
      },
      "source": [
        "dataset = pd.Dataframe()\n",
        "\n",
        "def plotar_grafico_1(dataset):\n",
        "    #USE OS ELEMENTOS DO PLOTLY PARA PLOTAR\n",
        "    #MONTE OS EIXOS\n",
        "    #MONTE OS DADOS\n",
        "    #MONTE O LAYOUT\n",
        "    plotar = plotly.offline.plot(fig, include_plotlyjs=True, output_type='div')\n",
        "    return plotar"
      ],
      "execution_count": null,
      "outputs": []
    }
  ]
}